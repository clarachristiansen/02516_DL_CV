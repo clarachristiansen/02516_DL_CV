{
 "cells": [
  {
   "cell_type": "code",
   "execution_count": 3,
   "metadata": {},
   "outputs": [
    {
     "name": "stdout",
     "output_type": "stream",
     "text": [
      "Using device: mps\n",
      "Tensor: tensor([[0.6672, 0.8977, 0.7544],\n",
      "        [0.3868, 0.4978, 0.8988],\n",
      "        [0.8818, 0.0180, 0.4910],\n",
      "        [0.6479, 0.8048, 0.0826],\n",
      "        [0.1473, 0.8880, 0.8113]], device='mps:0')\n",
      "Result of matrix multiplication: tensor([[1.8665, 0.8467, 1.2095, 1.6283, 1.5630],\n",
      "        [1.4272, 0.7793, 0.8113, 1.3648, 1.2172],\n",
      "        [0.9277, 0.6132, 0.8613, 0.9212, 0.8654],\n",
      "        [1.2303, 0.4002, 0.9684, 0.9248, 1.0086],\n",
      "        [1.5960, 0.7045, 0.7936, 1.4126, 1.2992]], device='mps:0')\n"
     ]
    }
   ],
   "source": [
    "import torch\n",
    "\n",
    "# Tjek om PyTorch kan bruge GPU (hvis tilgængelig)\n",
    "device = torch.device(\"mps\" if torch.backends.mps.is_available() else \"cpu\")\n",
    "print(f\"Using device: {device}\")\n",
    "\n",
    "# Opret en tensor og flyt den til den valgte enhed (CPU eller GPU)\n",
    "x = torch.rand(5, 3).to(device)\n",
    "print(f\"Tensor: {x}\")\n",
    "\n",
    "# Simpel matrixmultiplikation\n",
    "y = torch.rand(3, 5).to(device)\n",
    "result = torch.matmul(x, y)\n",
    "print(f\"Result of matrix multiplication: {result}\")\n"
   ]
  },
  {
   "cell_type": "code",
   "execution_count": null,
   "metadata": {},
   "outputs": [],
   "source": []
  }
 ],
 "metadata": {
  "kernelspec": {
   "display_name": "Cryptology01410",
   "language": "python",
   "name": "python3"
  },
  "language_info": {
   "codemirror_mode": {
    "name": "ipython",
    "version": 3
   },
   "file_extension": ".py",
   "mimetype": "text/x-python",
   "name": "python",
   "nbconvert_exporter": "python",
   "pygments_lexer": "ipython3",
   "version": "3.11.9"
  }
 },
 "nbformat": 4,
 "nbformat_minor": 2
}
